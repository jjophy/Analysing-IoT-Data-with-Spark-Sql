{
 "cells": [
  {
   "cell_type": "markdown",
   "metadata": {
    "id": "t6Zn5Au5b1vK"
   },
   "source": [
    "Week 5-8 : Graded Assignment Part 1 - Analysing IoT Data with Spark Sql\n",
    "\n",
    "Submitted by: Jophy Joseph                             August 07, 2022"
   ]
  },
  {
   "cell_type": "code",
   "execution_count": 1,
   "metadata": {
    "colab": {
     "base_uri": "https://localhost:8080/"
    },
    "id": "dgSKpiEJbe0F",
    "outputId": "8fac6ec7-6455-4998-ec90-9964f73afba9"
   },
   "outputs": [
    {
     "name": "stdout",
     "output_type": "stream",
     "text": [
      "Get:1 https://cloud.r-project.org/bin/linux/ubuntu bionic-cran40/ InRelease [3,626 B]\n",
      "Get:2 http://security.ubuntu.com/ubuntu bionic-security InRelease [88.7 kB]\n",
      "Hit:3 http://ppa.launchpad.net/c2d4u.team/c2d4u4.0+/ubuntu bionic InRelease\n",
      "Hit:4 http://archive.ubuntu.com/ubuntu bionic InRelease\n",
      "Ign:5 https://developer.download.nvidia.com/compute/machine-learning/repos/ubuntu1804/x86_64  InRelease\n",
      "Get:6 https://developer.download.nvidia.com/compute/cuda/repos/ubuntu1804/x86_64  InRelease [1,581 B]\n",
      "Hit:7 https://developer.download.nvidia.com/compute/machine-learning/repos/ubuntu1804/x86_64  Release\n",
      "Get:8 http://archive.ubuntu.com/ubuntu bionic-updates InRelease [88.7 kB]\n",
      "Get:9 https://developer.download.nvidia.com/compute/cuda/repos/ubuntu1804/x86_64  Packages [902 kB]\n",
      "Hit:11 http://ppa.launchpad.net/cran/libgit2/ubuntu bionic InRelease\n",
      "Hit:12 http://ppa.launchpad.net/deadsnakes/ppa/ubuntu bionic InRelease\n",
      "Get:13 http://security.ubuntu.com/ubuntu bionic-security/main amd64 Packages [2,905 kB]\n",
      "Get:14 http://archive.ubuntu.com/ubuntu bionic-backports InRelease [74.6 kB]\n",
      "Hit:15 http://ppa.launchpad.net/graphics-drivers/ppa/ubuntu bionic InRelease\n",
      "Get:16 http://archive.ubuntu.com/ubuntu bionic-updates/main amd64 Packages [3,336 kB]\n",
      "Get:17 http://security.ubuntu.com/ubuntu bionic-security/universe amd64 Packages [1,528 kB]\n",
      "Get:18 http://archive.ubuntu.com/ubuntu bionic-updates/universe amd64 Packages [2,306 kB]\n",
      "Fetched 11.2 MB in 4s (2,923 kB/s)\n",
      "Reading package lists... Done\n",
      "Building dependency tree       \n",
      "Reading state information... Done\n",
      "25 packages can be upgraded. Run 'apt list --upgradable' to see them.\n"
     ]
    }
   ],
   "source": [
    "!sudo apt update\n",
    "!apt-get install openjdk-8-jdk-headless -qq > /dev/null\n",
    "!wget -q https://dlcdn.apache.org/spark/spark-3.3.0/spark-3.3.0-bin-hadoop3.tgz"
   ]
  },
  {
   "cell_type": "code",
   "execution_count": 2,
   "metadata": {
    "colab": {
     "base_uri": "https://localhost:8080/"
    },
    "id": "UefIqD5pOBtu",
    "outputId": "a8f08879-345f-45e1-a882-bb0e119e0c7a"
   },
   "outputs": [
    {
     "name": "stdout",
     "output_type": "stream",
     "text": [
      "Looking in indexes: https://pypi.org/simple, https://us-python.pkg.dev/colab-wheels/public/simple/\n",
      "Collecting pyspark\n",
      "  Downloading pyspark-3.3.0.tar.gz (281.3 MB)\n",
      "\u001b[K     |████████████████████████████████| 281.3 MB 48 kB/s \n",
      "\u001b[?25hCollecting py4j==0.10.9.5\n",
      "  Downloading py4j-0.10.9.5-py2.py3-none-any.whl (199 kB)\n",
      "\u001b[K     |████████████████████████████████| 199 kB 49.0 MB/s \n",
      "\u001b[?25hBuilding wheels for collected packages: pyspark\n",
      "  Building wheel for pyspark (setup.py) ... \u001b[?25l\u001b[?25hdone\n",
      "  Created wheel for pyspark: filename=pyspark-3.3.0-py2.py3-none-any.whl size=281764026 sha256=1252ffb50a5c44b453f4cdb66a9fba3f5fef5162d0936ba9a307d0e9df73cab7\n",
      "  Stored in directory: /root/.cache/pip/wheels/7a/8e/1b/f73a52650d2e5f337708d9f6a1750d451a7349a867f928b885\n",
      "Successfully built pyspark\n",
      "Installing collected packages: py4j, pyspark\n",
      "Successfully installed py4j-0.10.9.5 pyspark-3.3.0\n"
     ]
    }
   ],
   "source": [
    "!tar xf spark-3.3.0-bin-hadoop3.tgz\n",
    "!pip install -q findspark\n",
    "!pip install pyspark"
   ]
  },
  {
   "cell_type": "code",
   "execution_count": 3,
   "metadata": {
    "id": "2X-_BSKyMh0Y"
   },
   "outputs": [],
   "source": [
    "import os\n",
    "os.environ[\"JAVA_HOME\"] = \"/usr/lib/jvm/java-8-openjdk-amd64\"\n",
    "os.environ[\"SPARK_HOME\"] = \"/content/spark-3.3.0-bin-hadoop3\""
   ]
  },
  {
   "cell_type": "code",
   "execution_count": 4,
   "metadata": {
    "colab": {
     "base_uri": "https://localhost:8080/",
     "height": 35
    },
    "id": "2UugnAFu4Eu-",
    "outputId": "5af7b22e-6823-4529-8ff6-7c1c4d4c75cb"
   },
   "outputs": [
    {
     "data": {
      "application/vnd.google.colaboratory.intrinsic+json": {
       "type": "string"
      },
      "text/plain": [
       "'/content/spark-3.3.0-bin-hadoop3'"
      ]
     },
     "execution_count": 4,
     "metadata": {},
     "output_type": "execute_result"
    }
   ],
   "source": [
    "import findspark\n",
    "findspark.init()\n",
    "findspark.find()"
   ]
  },
  {
   "cell_type": "code",
   "execution_count": 5,
   "metadata": {
    "colab": {
     "base_uri": "https://localhost:8080/",
     "height": 219
    },
    "id": "W6tG3xwOQcQf",
    "outputId": "c4ba2727-57b6-4ca8-9994-0df1b89db5f4"
   },
   "outputs": [
    {
     "data": {
      "text/html": [
       "\n",
       "            <div>\n",
       "                <p><b>SparkSession - in-memory</b></p>\n",
       "                \n",
       "        <div>\n",
       "            <p><b>SparkContext</b></p>\n",
       "\n",
       "            <p><a href=\"http://25d8fc93345b:4040\">Spark UI</a></p>\n",
       "\n",
       "            <dl>\n",
       "              <dt>Version</dt>\n",
       "                <dd><code>v3.3.0</code></dd>\n",
       "              <dt>Master</dt>\n",
       "                <dd><code>local[*]</code></dd>\n",
       "              <dt>AppName</dt>\n",
       "                <dd><code>Part-1: Working with SparkSQL</code></dd>\n",
       "            </dl>\n",
       "        </div>\n",
       "        \n",
       "            </div>\n",
       "        "
      ],
      "text/plain": [
       "<pyspark.sql.session.SparkSession at 0x7f6966ee3b90>"
      ]
     },
     "execution_count": 5,
     "metadata": {},
     "output_type": "execute_result"
    }
   ],
   "source": [
    "from pyspark.sql import DataFrame, SparkSession\n",
    "from typing import List\n",
    "import pyspark.sql.types as T\n",
    "import pyspark.sql.functions as F\n",
    "\n",
    "\n",
    "spark = SparkSession \\\n",
    "       .builder \\\n",
    "       .appName(\"Part-1: Working with SparkSQL\") \\\n",
    "       .getOrCreate()\n",
    "\n",
    "spark"
   ]
  },
  {
   "cell_type": "markdown",
   "metadata": {
    "id": "CpUs8eeCYVEW"
   },
   "source": [
    "Task 1: Read the data into a Dataframe."
   ]
  },
  {
   "cell_type": "code",
   "execution_count": 6,
   "metadata": {
    "colab": {
     "base_uri": "https://localhost:8080/"
    },
    "id": "uJkoCPPVYZ4m",
    "outputId": "362bc928-267c-4239-80f6-55e1006c6c59"
   },
   "outputs": [
    {
     "name": "stdout",
     "output_type": "stream",
     "text": [
      "Mounted at /content/drive\n"
     ]
    }
   ],
   "source": [
    "from google.colab import drive\n",
    "drive.mount('/content/drive')"
   ]
  },
  {
   "cell_type": "code",
   "execution_count": 7,
   "metadata": {
    "id": "HFF781ccYmrW"
   },
   "outputs": [],
   "source": [
    "file_location = \"/content/drive/My Drive/data/iot_devices.json\"\n",
    "file_type = \"json\"\n",
    "\n",
    "# CSV options\n",
    "infer_schema = True\n",
    "first_row_is_header = True\n",
    "delimiter = \",\"\n",
    "\n",
    "# The applied options are for CSV files. For other file types, these will be ignored.\n",
    "iot_df = spark.read.format(file_type) \\\n",
    "  .option(\"inferSchema\", infer_schema) \\\n",
    "  .option(\"header\", first_row_is_header) \\\n",
    "  .option(\"sep\", delimiter) \\\n",
    "  .load(file_location)"
   ]
  },
  {
   "cell_type": "code",
   "execution_count": 8,
   "metadata": {
    "colab": {
     "base_uri": "https://localhost:8080/"
    },
    "id": "gJvc7SNqcroE",
    "outputId": "e29203cf-c495-4dab-f1b9-a6972a6d4ac8"
   },
   "outputs": [
    {
     "name": "stdout",
     "output_type": "stream",
     "text": [
      "+-------------+---------+----+----+-------------+---------+------------------------+--------+---------------+--------+------+---------+-------+----+-------------+\n",
      "|battery_level|c02_level|cca2|cca3|cn           |device_id|device_name             |humidity|ip             |latitude|lcd   |longitude|scale  |temp|timestamp    |\n",
      "+-------------+---------+----+----+-------------+---------+------------------------+--------+---------------+--------+------+---------+-------+----+-------------+\n",
      "|8            |868      |US  |USA |United States|1        |meter-gauge-1xbYRYcj    |51      |68.161.225.1   |38.0    |green |-97.0    |Celsius|34  |1458444054093|\n",
      "|7            |1473     |NO  |NOR |Norway       |2        |sensor-pad-2n2Pea       |70      |213.161.254.1  |62.47   |red   |6.15     |Celsius|11  |1458444054119|\n",
      "|2            |1556     |IT  |ITA |Italy        |3        |device-mac-36TWSKiT     |44      |88.36.5.1      |42.83   |red   |12.83    |Celsius|19  |1458444054120|\n",
      "|6            |1080     |US  |USA |United States|4        |sensor-pad-4mzWkz       |32      |66.39.173.154  |44.06   |yellow|-121.32  |Celsius|28  |1458444054121|\n",
      "|4            |931      |PH  |PHL |Philippines  |5        |therm-stick-5gimpUrBB   |62      |203.82.41.9    |14.58   |green |120.97   |Celsius|25  |1458444054122|\n",
      "|3            |1210     |US  |USA |United States|6        |sensor-pad-6al7RTAobR   |51      |204.116.105.67 |35.93   |yellow|-85.46   |Celsius|27  |1458444054122|\n",
      "|3            |1129     |CN  |CHN |China        |7        |meter-gauge-7GeDoanM    |26      |220.173.179.1  |22.82   |yellow|108.32   |Celsius|18  |1458444054123|\n",
      "|0            |1536     |JP  |JPN |Japan        |8        |sensor-pad-8xUD6pzsQI   |35      |210.173.177.1  |35.69   |red   |139.69   |Celsius|27  |1458444054123|\n",
      "|3            |807      |JP  |JPN |Japan        |9        |device-mac-9GcjZ2pw     |85      |118.23.68.227  |35.69   |green |139.69   |Celsius|13  |1458444054124|\n",
      "|7            |1470     |US  |USA |United States|10       |sensor-pad-10BsywSYUF   |56      |208.109.163.218|33.61   |red   |-111.89  |Celsius|26  |1458444054125|\n",
      "|3            |1544     |IT  |ITA |Italy        |11       |meter-gauge-11dlMTZty   |85      |88.213.191.34  |42.83   |red   |12.83    |Celsius|16  |1458444054125|\n",
      "|0            |1260     |US  |USA |United States|12       |sensor-pad-12Y2kIm0o    |92      |68.28.91.22    |38.0    |yellow|-97.0    |Celsius|12  |1458444054126|\n",
      "|6            |1007     |IN  |IND |India        |13       |meter-gauge-13GrojanSGBz|92      |59.144.114.250 |28.6    |yellow|77.2     |Celsius|13  |1458444054127|\n",
      "|1            |1346     |NO  |NOR |Norway       |14       |sensor-pad-14QL93sBR0j  |90      |193.156.90.200 |59.95   |yellow|10.75    |Celsius|16  |1458444054127|\n",
      "|9            |1259     |US  |USA |United States|15       |device-mac-15se6mZ      |70      |67.185.72.1    |47.41   |yellow|-122.0   |Celsius|13  |1458444054128|\n",
      "|4            |1425     |US  |USA |United States|16       |sensor-pad-16aXmIJZtdO  |53      |68.85.85.106   |38.0    |red   |-97.0    |Celsius|15  |1458444054128|\n",
      "|0            |1466     |US  |USA |United States|17       |meter-gauge-17zb8Fghhl  |98      |161.188.212.254|39.95   |red   |-75.16   |Celsius|31  |1458444054129|\n",
      "|4            |1096     |CN  |CHN |China        |18       |sensor-pad-18XULN9Xv    |25      |221.3.128.242  |25.04   |yellow|102.72   |Celsius|31  |1458444054130|\n",
      "|9            |1531     |US  |USA |United States|19       |meter-gauge-19eg1BpfCO  |75      |64.124.180.215 |38.0    |red   |-97.0    |Celsius|29  |1458444054130|\n",
      "|7            |1155     |US  |USA |United States|20       |sensor-pad-20gFNfBgqr   |33      |66.153.162.66  |33.94   |yellow|-78.92   |Celsius|10  |1458444054131|\n",
      "+-------------+---------+----+----+-------------+---------+------------------------+--------+---------------+--------+------+---------+-------+----+-------------+\n",
      "only showing top 20 rows\n",
      "\n"
     ]
    }
   ],
   "source": [
    "iot_df.show(20, False)"
   ]
  },
  {
   "cell_type": "markdown",
   "metadata": {
    "id": "6PyiGh-8cyHz"
   },
   "source": [
    "Task 2. Convert the Dataframe into a temporary view called iot.\n"
   ]
  },
  {
   "cell_type": "code",
   "execution_count": 9,
   "metadata": {
    "id": "CPZYg39rc6Qj"
   },
   "outputs": [],
   "source": [
    "iot_df.createOrReplaceTempView('iot')"
   ]
  },
  {
   "cell_type": "code",
   "execution_count": 10,
   "metadata": {
    "colab": {
     "base_uri": "https://localhost:8080/"
    },
    "id": "qpoemGfjeqQr",
    "outputId": "48760b94-bd97-478d-d8e4-7365b1e78c62"
   },
   "outputs": [
    {
     "name": "stdout",
     "output_type": "stream",
     "text": [
      "+-------------+---------+----+----+-------------+---------+--------------------+--------+-------------+--------+------+---------+-------+----+-------------+\n",
      "|battery_level|c02_level|cca2|cca3|           cn|device_id|         device_name|humidity|           ip|latitude|   lcd|longitude|  scale|temp|    timestamp|\n",
      "+-------------+---------+----+----+-------------+---------+--------------------+--------+-------------+--------+------+---------+-------+----+-------------+\n",
      "|            8|      868|  US| USA|United States|        1|meter-gauge-1xbYRYcj|      51| 68.161.225.1|    38.0| green|    -97.0|Celsius|  34|1458444054093|\n",
      "|            7|     1473|  NO| NOR|       Norway|        2|   sensor-pad-2n2Pea|      70|213.161.254.1|   62.47|   red|     6.15|Celsius|  11|1458444054119|\n",
      "|            2|     1556|  IT| ITA|        Italy|        3| device-mac-36TWSKiT|      44|    88.36.5.1|   42.83|   red|    12.83|Celsius|  19|1458444054120|\n",
      "|            6|     1080|  US| USA|United States|        4|   sensor-pad-4mzWkz|      32|66.39.173.154|   44.06|yellow|  -121.32|Celsius|  28|1458444054121|\n",
      "|            4|      931|  PH| PHL|  Philippines|        5|therm-stick-5gimp...|      62|  203.82.41.9|   14.58| green|   120.97|Celsius|  25|1458444054122|\n",
      "+-------------+---------+----+----+-------------+---------+--------------------+--------+-------------+--------+------+---------+-------+----+-------------+\n",
      "only showing top 5 rows\n",
      "\n"
     ]
    }
   ],
   "source": [
    "spark.sql(\"select * from iot\").show(5)"
   ]
  },
  {
   "cell_type": "code",
   "execution_count": 11,
   "metadata": {
    "colab": {
     "base_uri": "https://localhost:8080/"
    },
    "id": "xb8vyzMhlQRm",
    "outputId": "74b32290-142b-45da-b79b-ed586ee3a4fb"
   },
   "outputs": [
    {
     "name": "stdout",
     "output_type": "stream",
     "text": [
      "root\n",
      " |-- battery_level: long (nullable = true)\n",
      " |-- c02_level: long (nullable = true)\n",
      " |-- cca2: string (nullable = true)\n",
      " |-- cca3: string (nullable = true)\n",
      " |-- cn: string (nullable = true)\n",
      " |-- device_id: long (nullable = true)\n",
      " |-- device_name: string (nullable = true)\n",
      " |-- humidity: long (nullable = true)\n",
      " |-- ip: string (nullable = true)\n",
      " |-- latitude: double (nullable = true)\n",
      " |-- lcd: string (nullable = true)\n",
      " |-- longitude: double (nullable = true)\n",
      " |-- scale: string (nullable = true)\n",
      " |-- temp: long (nullable = true)\n",
      " |-- timestamp: long (nullable = true)\n",
      "\n"
     ]
    }
   ],
   "source": [
    "iot_df.printSchema()"
   ]
  },
  {
   "cell_type": "markdown",
   "metadata": {
    "id": "yA-zsmcgfsVA"
   },
   "source": [
    "Task 3. Count how many devices are there from each country and display the output."
   ]
  },
  {
   "cell_type": "code",
   "execution_count": 12,
   "metadata": {
    "colab": {
     "base_uri": "https://localhost:8080/"
    },
    "id": "E5yYolTDfvJn",
    "outputId": "11e73133-1899-43d7-8c28-c5c01bc34c42"
   },
   "outputs": [
    {
     "name": "stdout",
     "output_type": "stream",
     "text": [
      "+------------+-----------------+\n",
      "|Country_name|Number_of_devices|\n",
      "+------------+-----------------+\n",
      "|         USA|            70405|\n",
      "|         CHN|            14455|\n",
      "|         JPN|            12100|\n",
      "|         KOR|            11879|\n",
      "|         DEU|             7942|\n",
      "|         GBR|             6486|\n",
      "|         CAN|             6041|\n",
      "|         RUS|             5989|\n",
      "|         FRA|             5305|\n",
      "|         BRA|             3224|\n",
      "|         AUS|             3119|\n",
      "|         ITA|             2915|\n",
      "|         SWE|             2880|\n",
      "|         POL|             2744|\n",
      "|         NLD|             2488|\n",
      "|         ESP|             2310|\n",
      "|         TWN|             2128|\n",
      "|         IND|             1867|\n",
      "|         CZE|             1507|\n",
      "|         NOR|             1487|\n",
      "+------------+-----------------+\n",
      "only showing top 20 rows\n",
      "\n"
     ]
    }
   ],
   "source": [
    "spark.sql(\"select cca3 as Country_name, count(distinct(device_id)) as Number_of_devices from iot group by cca3 order by Number_of_devices desc\").show()"
   ]
  },
  {
   "cell_type": "markdown",
   "metadata": {
    "id": "tYT3MwNTiw2p"
   },
   "source": [
    "Task 4. Display all the countries whose carbon dioxide level is more than 1400. Sort the output in descending order."
   ]
  },
  {
   "cell_type": "code",
   "execution_count": 13,
   "metadata": {
    "colab": {
     "base_uri": "https://localhost:8080/"
    },
    "id": "RExp92lSi0cW",
    "outputId": "431052b4-ca17-4c75-b701-5e89738bcdf0"
   },
   "outputs": [
    {
     "name": "stdout",
     "output_type": "stream",
     "text": [
      "+------------+------------+---------+\n",
      "|Country_Code|Country_name|CO2_level|\n",
      "+------------+------------+---------+\n",
      "|          US|         USA| 26242891|\n",
      "|          CN|         CHN|  5424312|\n",
      "|          KR|         KOR|  4415118|\n",
      "|          JP|         JPN|  4399107|\n",
      "|          DE|         DEU|  2950796|\n",
      "|          GB|         GBR|  2488574|\n",
      "|          CA|         CAN|  2343270|\n",
      "|          RU|         RUS|  2262936|\n",
      "|          FR|         FRA|  2030583|\n",
      "|          BR|         BRA|  1284892|\n",
      "|          AU|         AUS|  1153899|\n",
      "|          SE|         SWE|  1086146|\n",
      "|          IT|         ITA|  1070505|\n",
      "|          PL|         POL|   995721|\n",
      "|          NL|         NLD|   970297|\n",
      "|          ES|         ESP|   878143|\n",
      "|          TW|         TWN|   813253|\n",
      "|          IN|         IND|   666101|\n",
      "|          NO|         NOR|   598248|\n",
      "|          UA|         UKR|   559605|\n",
      "+------------+------------+---------+\n",
      "only showing top 20 rows\n",
      "\n"
     ]
    }
   ],
   "source": [
    "spark.sql(\"select Cca2 as Country_Code, Cca3 as Country_name, sum(c02_level) as CO2_level  from iot  where c02_level > 1400  group by Cca2, Cca3 order by CO2_level desc \").show()"
   ]
  },
  {
   "cell_type": "markdown",
   "metadata": {
    "id": "PmjVcfZvjzQt"
   },
   "source": [
    "Task 5. Select all countries' devices with high-levels of C02 and group by cca3 and order by device_ids (Hint: For high CO2 level, the LCD status will be RED)."
   ]
  },
  {
   "cell_type": "code",
   "execution_count": 14,
   "metadata": {
    "colab": {
     "base_uri": "https://localhost:8080/"
    },
    "id": "rCBVje7hjshA",
    "outputId": "d5f0c613-db00-4030-a242-801d35cae4e0"
   },
   "outputs": [
    {
     "name": "stdout",
     "output_type": "stream",
     "text": [
      "+----+-----------------+---------+\n",
      "|cca3|               cn|device_id|\n",
      "+----+-----------------+---------+\n",
      "| NOR|           Norway|        2|\n",
      "| ITA|            Italy|        3|\n",
      "| JPN|            Japan|        8|\n",
      "| USA|    United States|       10|\n",
      "| ITA|            Italy|       11|\n",
      "| USA|    United States|       16|\n",
      "| USA|    United States|       17|\n",
      "| USA|    United States|       19|\n",
      "| JPN|            Japan|       22|\n",
      "| CAN|           Canada|       24|\n",
      "| KOR|Republic of Korea|       27|\n",
      "| KOR|Republic of Korea|       28|\n",
      "| UKR|          Ukraine|       47|\n",
      "| SWE|           Sweden|       53|\n",
      "| USA|    United States|       54|\n",
      "| USA|    United States|       57|\n",
      "| USA|    United States|       64|\n",
      "| CZE|   Czech Republic|       66|\n",
      "| IND|            India|       77|\n",
      "| KOR|Republic of Korea|       78|\n",
      "+----+-----------------+---------+\n",
      "only showing top 20 rows\n",
      "\n"
     ]
    }
   ],
   "source": [
    "spark.sql(\"select cca3,cn,device_id from iot where lcd = 'red' group by cca3,cn,device_id order by device_id \").show()"
   ]
  },
  {
   "cell_type": "markdown",
   "metadata": {
    "id": "py4MiWA1ofx8"
   },
   "source": [
    "Task 6. Find out all devices in countries whose batteries need replacements."
   ]
  },
  {
   "cell_type": "code",
   "execution_count": 15,
   "metadata": {
    "colab": {
     "base_uri": "https://localhost:8080/"
    },
    "id": "rYfDXgXuomCz",
    "outputId": "f2b2e652-fa8e-43af-bb2b-5471ea34af69"
   },
   "outputs": [
    {
     "name": "stdout",
     "output_type": "stream",
     "text": [
      "+----+---------+-------------+\n",
      "|cca3|device_id|battery_level|\n",
      "+----+---------+-------------+\n",
      "| JPN|   106121|            0|\n",
      "| DEU|   106203|            0|\n",
      "| AUS|   106061|            0|\n",
      "| RUS|   106125|            0|\n",
      "| AUS|   106067|            0|\n",
      "| VNM|   106139|            0|\n",
      "| USA|   106076|            0|\n",
      "| CAN|   106152|            0|\n",
      "| USA|   106088|            0|\n",
      "| FRA|   106162|            0|\n",
      "| DEU|   106105|            0|\n",
      "| USA|   106168|            0|\n",
      "| GBR|   106112|            0|\n",
      "| USA|   106172|            0|\n",
      "| CHN|   106199|            0|\n",
      "| KOR|   106177|            0|\n",
      "| MYS|   106085|            0|\n",
      "| ROU|   106182|            0|\n",
      "| USA|   106110|            0|\n",
      "| LBY|   106195|            0|\n",
      "+----+---------+-------------+\n",
      "only showing top 20 rows\n",
      "\n"
     ]
    }
   ],
   "source": [
    "# Assumption - devices with battery level < 3 would need replacement\n",
    "spark.sql(\"select cca3, device_id, battery_level from iot where battery_level < 3  order by battery_level \").show()"
   ]
  }
 ],
 "metadata": {
  "colab": {
   "collapsed_sections": [],
   "name": "week5-8 part1 SparkSQL.ipynb",
   "provenance": []
  },
  "kernelspec": {
   "display_name": "Python 3",
   "language": "python",
   "name": "python3"
  },
  "language_info": {
   "codemirror_mode": {
    "name": "ipython",
    "version": 3
   },
   "file_extension": ".py",
   "mimetype": "text/x-python",
   "name": "python",
   "nbconvert_exporter": "python",
   "pygments_lexer": "ipython3",
   "version": "3.8.8"
  }
 },
 "nbformat": 4,
 "nbformat_minor": 1
}
